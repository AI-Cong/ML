{
 "cells": [
  {
   "attachments": {
    "image.png": {
     "image/png": "[encoded data removed]"
    }
   },
   "cell_type": "markdown",
   "metadata": {},
   "source": [
    "# 机器学习算法理论及实战（一）——KNN算法\n",
    "\n",
    "## 一、介绍\n",
    "K最近邻（KNN）算法是一种监督的ML算法，可用于分类以及回归预测问题。但是，它主要用于行业中的分类预测问题。以下两个属性将很好地定义KNN：\n",
    "+ 惰性学习算法：因为它没有专门的训练阶段，并且在分类时将所有数据用于训练。\n",
    "+ 非参数学习算法 ：因为它不假设有关基础数据的任何信息。\n",
    "\n",
    "## 二、工作流程\n",
    "K最近邻（KNN）算法使用“特征相似性”来预测新数据点的值，这意味着，将根据新数据点与训练集中的点的匹配程度为该新数据点分配一个值。我们可以通过以下步骤了解其工作方式：\n",
    "\n",
    "1. 步骤1：加载训练以及测试数据。\n",
    "2. 步骤2：选择K的值，即最近的数据点（K可以是任何整数）。\n",
    "3. 步骤3：对于测试数据中的每个点，请执行以下操作：  \n",
    "\n",
    "    借助以下任意一种方法来计算测试数据与训练数据的每一行之间的距离：欧几里得距离，曼哈顿距离或汉明距离。\n",
    "    + 最常用的距离计算方法是欧几里得。\n",
    "    + 基于距离值，将它们按升序排序。\n",
    "    + 然后它将从排序后的数组中选择前K行。\n",
    "    + 现在，它将基于这些行中最多出现的类别为测试点分配这一个类。\n",
    "\n",
    "4. 步骤4：结束。\n",
    "\n",
    "## 三、示例\n",
    "以下是了解K的概念和KNN算法的工作的示例。\n",
    "\n",
    "假设我们有一个可以绘制如下的数据集。如下：\n",
    "\n",
    "![image.png](attachment:image.png)\n",
    "\n",
    "现在，我们需要将带有黑点（在点60,60处）的新数据点分类为蓝色或红色类。我们假设K = 3，即它将找到三个最近的数据点。如图所示：\n",
    "\n",
    "![image.png](attachment:image.png)\n",
    "\n",
    "我们可以在上图中看到带有黑点的数据点的三个最近邻居。在这三个中，有两个属于红色等级，因此黑点也将被分配为红色等级。"
   ]
  },
  {
   "cell_type": "markdown",
   "metadata": {},
   "source": [
    "## 四、用Python实现\n",
    "### 1.模拟数据及绘图"
   ]
  },
  {
   "cell_type": "code",
   "execution_count": 3,
   "metadata": {},
   "outputs": [
    {
     "data": {
      "image/png": "[encoded data removed]",
      "text/plain": [
       "<Figure size 432x288 with 1 Axes>"
      ]
     },
     "metadata": {
      "needs_background": "light"
     },
     "output_type": "display_data"
    }
   ],
   "source": [
    "# 导入相应的包\n",
    "import numpy as np\n",
    "import matplotlib.pyplot as plt\n",
    " \n",
    "# 模拟数据\n",
    "raw_data_X = [[3.39, 2.33],\n",
    "              [3.11, 1.78],\n",
    "              [1.34, 3.36],\n",
    "              [3.58, 4.67],\n",
    "              [2.28, 2.86],\n",
    "              [7.42, 4.69],\n",
    "              [5.74, 3.53],\n",
    "              [9.17, 2.51],\n",
    "              [7.79, 3.42],\n",
    "              [7.93, 0.79]]\n",
    "raw_data_y = [0, 0, 0, 0, 0, 1, 1, 1, 1, 1]\n",
    "X_train = np.array(raw_data_X)\n",
    "y_train = np.array(raw_data_y)\n",
    " \n",
    "# 绘制散点图\n",
    "plt.scatter(X_train[y_train==0, 0], X_train[y_train==0, 1], color='g')\n",
    "plt.scatter(X_train[y_train==1, 0], X_train[y_train==1, 1], color='r')\n",
    "plt.show()"
   ]
  },
  {
   "cell_type": "code",
   "execution_count": 4,
   "metadata": {},
   "outputs": [
    {
     "data": {
      "image/png": "[encoded data removed]",
      "text/plain": [
       "<Figure size 432x288 with 1 Axes>"
      ]
     },
     "metadata": {
      "needs_background": "light"
     },
     "output_type": "display_data"
    }
   ],
   "source": [
    "# 加入一个新数据点\n",
    "X = np.array([8.09, 3.36])\n",
    "\n",
    "# 绘制增加新数据点的散点图\n",
    "plt.scatter(X_train[y_train==0, 0], X_train[y_train==0, 1], color='g')\n",
    "plt.scatter(X_train[y_train==1, 0], X_train[y_train==1, 1], color='r')\n",
    "plt.scatter(X[0], X[1], color='b')\n",
    "plt.show()"
   ]
  },
  {
   "cell_type": "markdown",
   "metadata": {},
   "source": [
    "### 2.KNN过程\n",
    "①计算距离"
   ]
  },
  {
   "cell_type": "code",
   "execution_count": 5,
   "metadata": {},
   "outputs": [
    {
     "data": {
      "text/plain": [
       "[4.811538215581374,\n",
       " 5.224633958470201,\n",
       " 6.75,\n",
       " 4.696402878799901,\n",
       " 5.831474942070831,\n",
       " 1.489227987918573,\n",
       " 2.356140912594151,\n",
       " 1.3743725841270265,\n",
       " 0.30594117081556693,\n",
       " 2.574975728040946]"
      ]
     },
     "execution_count": 5,
     "metadata": {},
     "output_type": "execute_result"
    }
   ],
   "source": [
    "# 其他数据分别与新数据点之间的距离\n",
    "from math import sqrt\n",
    " \n",
    "# 方法一\n",
    "distance = []\n",
    "for x_train in X_train:\n",
    "    d = sqrt(np.sum((x_train - X)**2))\n",
    "    distance.append(d)\n",
    "distance"
   ]
  },
  {
   "cell_type": "code",
   "execution_count": 6,
   "metadata": {},
   "outputs": [],
   "source": [
    "# 方法二\n",
    "distance = [sqrt(np.sum((x_train - X)**2)) for x_train in X_train]"
   ]
  },
  {
   "cell_type": "markdown",
   "metadata": {},
   "source": [
    "②基于距离值，将它们按升序排序"
   ]
  },
  {
   "cell_type": "code",
   "execution_count": 7,
   "metadata": {},
   "outputs": [
    {
     "data": {
      "text/plain": [
       "array([8, 7, 5, 6, 9, 3, 0, 1, 4, 2], dtype=int64)"
      ]
     },
     "execution_count": 7,
     "metadata": {},
     "output_type": "execute_result"
    }
   ],
   "source": [
    "# 升序排序（按下标排序）\n",
    "nearest = np.argsort(distance)\n",
    "nearest"
   ]
  },
  {
   "cell_type": "markdown",
   "metadata": {},
   "source": [
    "③将从排序后的数组中选择前K行"
   ]
  },
  {
   "cell_type": "code",
   "execution_count": 9,
   "metadata": {},
   "outputs": [
    {
     "data": {
      "text/plain": [
       "[1, 1, 1, 1, 1, 0]"
      ]
     },
     "execution_count": 9,
     "metadata": {},
     "output_type": "execute_result"
    }
   ],
   "source": [
    "# 设k为6\n",
    "k = 6\n",
    " \n",
    "# 从排序后的数组中显示前k行对应的类型\n",
    "topK_y = [y_train[i] for i in nearest[:k]]\n",
    "\n",
    "topK_y"
   ]
  },
  {
   "cell_type": "markdown",
   "metadata": {},
   "source": [
    "④基于这些行中最多出现的类别为测试点分配这一个类"
   ]
  },
  {
   "cell_type": "code",
   "execution_count": 10,
   "metadata": {},
   "outputs": [
    {
     "data": {
      "text/plain": [
       "Counter({1: 5, 0: 1})"
      ]
     },
     "execution_count": 10,
     "metadata": {},
     "output_type": "execute_result"
    }
   ],
   "source": [
    "# 导入统计数据包\n",
    "from collections import Counter\n",
    " \n",
    "# 显示各类对应的数量\n",
    "votes = Counter(topK_y)\n",
    "votes"
   ]
  },
  {
   "cell_type": "markdown",
   "metadata": {},
   "source": [
    "可知1出现的次数最多为5。,该新增数据点的类型为1，红色。"
   ]
  },
  {
   "cell_type": "code",
   "execution_count": 12,
   "metadata": {},
   "outputs": [
    {
     "data": {
      "text/plain": [
       "1"
      ]
     },
     "execution_count": 12,
     "metadata": {},
     "output_type": "execute_result"
    }
   ],
   "source": [
    "votes.most_common(2)         # 显示为[(1, 5), (0, 1)]\n",
    "votes.most_common(1)         # 显示为[(1, 5)]\n",
    "votes.most_common(1)[0][0]   # 显示为1"
   ]
  },
  {
   "cell_type": "code",
   "execution_count": 13,
   "metadata": {},
   "outputs": [
    {
     "data": {
      "text/plain": [
       "1"
      ]
     },
     "execution_count": 13,
     "metadata": {},
     "output_type": "execute_result"
    }
   ],
   "source": [
    "# 预测数据\n",
    "predict_y = votes.most_common(1)[0][0]\n",
    "predict_y"
   ]
  },
  {
   "cell_type": "markdown",
   "metadata": {},
   "source": [
    "### 3.使用scikit-learn中的KNN"
   ]
  },
  {
   "cell_type": "code",
   "execution_count": 14,
   "metadata": {},
   "outputs": [
    {
     "data": {
      "text/plain": [
       "1"
      ]
     },
     "execution_count": 14,
     "metadata": {},
     "output_type": "execute_result"
    }
   ],
   "source": [
    "# 导包\n",
    "import numpy as np\n",
    "from sklearn.neighbors import KNeighborsClassifier\n",
    " \n",
    "# 设置k为6\n",
    "kNN_classifier = KNeighborsClassifier(n_neighbors = 6)\n",
    " \n",
    "# 训练\n",
    "raw_data_X = [[3.39, 2.33],\n",
    "              [3.11, 1.78],\n",
    "              [1.34, 3.36],\n",
    "              [3.58, 4.67],\n",
    "              [2.28, 2.86],\n",
    "              [7.42, 4.69],\n",
    "              [5.74, 3.53],\n",
    "              [9.17, 2.51],\n",
    "              [7.79, 3.42],\n",
    "              [7.93, 0.79]]\n",
    "raw_data_y = [0, 0, 0, 0, 0, 1, 1, 1, 1, 1]\n",
    "X_train = np.array(raw_data_X)\n",
    "y_train = np.array(raw_data_y)\n",
    "kNN_classifier.fit(X_train, y_train)\n",
    " \n",
    "# 新数据\n",
    "X = np.array([8.09, 3.36])\n",
    "X_predict = X.reshape(1, -1) \n",
    " \n",
    "# 预测数据\n",
    "y_predict = kNN_classifier.predict(X_predict)\n",
    "y_predict[0]"
   ]
  },
  {
   "cell_type": "markdown",
   "metadata": {},
   "source": [
    "# 五、KNN的优缺点\n",
    "## 1.优点\n",
    "+ 一种非常简单的算法，易于理解和解释。\n",
    "\n",
    "+ 对于非线性数据非常有用，因为此算法中没有关于数据的假设。\n",
    "\n",
    "+ 一种通用算法，因为我们可以将其用于分类和回归。\n",
    "\n",
    "+ 它具有相对较高的准确性，但是有比KNN更好的监督学习模型。\n",
    "\n",
    "## 2.缺点\n",
    "+ 这是一种计算上有点昂贵的算法，因为它存储了所有训练数据。\n",
    "\n",
    "+ 与其他监督学习算法相比，需要高存储容量。\n",
    "\n",
    "+ 大N时预测很慢。\n",
    "\n",
    "+ 它对数据规模以及不相关的功能非常敏感。\n",
    "\n",
    "## 六、KNN的应用\n",
    "以下是可以成功应用KNN的一些领域：\n",
    "\n",
    "### 1.银行系统\n",
    "KNN可以在银行系统中用于预测个人适合贷款审批的天气吗？该个人是否具有与违约者相似的特征？\n",
    "\n",
    "### 2.计算信用等级\n",
    "通过与具有相似特征的人进行比较，可以使用KNN算法查找个人的信用等级。\n",
    "\n",
    "### 3.政治\n",
    "借助KNN算法，我们可以将潜在选民分为多个类别，例如“将投票”，“将不投票”，“将对党的代表大会投票”，“将对党的代表投票”。\n",
    "\n",
    "### 4.其他领域\n",
    "语音识别，手写检测，图像识别和视频识别。"
   ]
  },
  {
   "cell_type": "code",
   "execution_count": null,
   "metadata": {},
   "outputs": [],
   "source": []
  }
 ],
 "metadata": {
  "kernelspec": {
   "display_name": "Python 3",
   "language": "python",
   "name": "python3"
  },
  "language_info": {
   "codemirror_mode": {
    "name": "ipython",
    "version": 3
   },
   "file_extension": ".py",
   "mimetype": "text/x-python",
   "name": "python",
   "nbconvert_exporter": "python",
   "pygments_lexer": "ipython3",
   "version": "3.7.4"
  }
 },
 "nbformat": 4,
 "nbformat_minor": 2
}
